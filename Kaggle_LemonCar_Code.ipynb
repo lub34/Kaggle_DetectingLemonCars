{
  "cells": [
    {
      "cell_type": "markdown",
      "metadata": {
        "id": "ZgnnZicslfxk"
      },
      "source": [
        "#Import packages"
      ]
    },
    {
      "cell_type": "code",
      "execution_count": null,
      "metadata": {
        "id": "M2w2K8_NUnjR"
      },
      "outputs": [],
      "source": [
        "# pandas will be required to work with Data Frame\n",
        "import pandas as pd    \n",
        "\n",
        "#numpy will be required for mathematical functions\n",
        "import numpy as np     \n",
        "\n",
        "\n",
        "#matplotlib and seaborn will be required for data visualization\n",
        "import matplotlib.pyplot as plt \n",
        "import seaborn as sns   \n",
        "\n",
        "# train_test_split will be requiered to perform train test split\n",
        "from sklearn.model_selection import train_test_split  \n",
        "\n",
        "##Labels data that need to be represented in a matrix map with 0 and 1\n",
        "from sklearn.preprocessing import OneHotEncoder \n",
        "\n",
        "#allows you to selectively apply data preparation transforms\n",
        "from sklearn.compose import ColumnTransformer \n",
        "\n",
        "# import PolynomialFeatures to creat polynomial features \n",
        "from sklearn.preprocessing import PolynomialFeatures\n",
        "\n",
        "# import different samplers to sample the imbalance Data\n",
        "from imblearn.under_sampling import RandomUnderSampler\n",
        "from imblearn.over_sampling import RandomOverSampler\n",
        "from imblearn.over_sampling import SMOTE\n",
        "\n",
        "# imblearn Pipline will be required if you want to include samplers \n",
        "# in the pipeline. sklearn.Pipeline does not allow sampler\n",
        "from imblearn.pipeline import make_pipeline\n",
        "\n",
        "# Pipeline is requirede to chained together differen Data Transforms\n",
        "from sklearn.pipeline import Pipeline\n",
        "\n",
        "# GridSearchCV is used for Hyperparameter tuning. \n",
        "# Given a set of different hyperparameters, GridSearchCV loops through all possible values\n",
        "from sklearn.model_selection import GridSearchCV\n",
        "\n",
        "# import diffrent scaler,as a preprocessing step before many machine learning models, \n",
        "from sklearn.preprocessing import StandardScaler\n",
        "\n",
        "# import diffrent metrics as a useful measure of the success of prediction\n",
        "from sklearn.metrics import precision_score, recall_score, accuracy_score, f1_score,roc_auc_score, roc_curve, auc\n",
        "\n",
        "# cross_val_score evaluate a score by cross-validation\n",
        "from sklearn.model_selection import cross_val_score\n",
        "\n",
        "#Validation curve determine training and test scores for varying parameter values\n",
        "from sklearn.model_selection import validation_curve\n",
        "\n",
        "# Import machine learning algorithms for classification\n",
        "from sklearn.tree import DecisionTreeClassifier\n",
        "from sklearn.linear_model import LogisticRegression\n",
        "from sklearn.ensemble import RandomForestClassifier\n",
        "from sklearn.neighbors import KNeighborsClassifier\n",
        "\n",
        "from sklearn.impute import SimpleImputer\n",
        "from sklearn.preprocessing import StandardScaler, LabelEncoder"
      ]
    },
    {
      "cell_type": "markdown",
      "metadata": {
        "id": "iN7HMVWogQJx"
      },
      "source": [
        "#Acquire data"
      ]
    },
    {
      "cell_type": "code",
      "execution_count": null,
      "metadata": {
        "id": "j2Od9QwNVhVB"
      },
      "outputs": [],
      "source": [
        "original_train = pd.read_csv('train.csv')\n",
        "original_test = pd.read_csv('test.csv')"
      ]
    },
    {
      "cell_type": "code",
      "execution_count": null,
      "metadata": {
        "colab": {
          "base_uri": "https://localhost:8080/"
        },
        "id": "Dp3VZeGVmClE",
        "outputId": "6e845a9e-f087-476e-d312-1d3550d1d571"
      },
      "outputs": [
        {
          "output_type": "execute_result",
          "data": {
            "text/plain": [
              "(25310, 24)"
            ]
          },
          "metadata": {},
          "execution_count": 4
        }
      ],
      "source": [
        "original_train.shape"
      ]
    },
    {
      "cell_type": "code",
      "execution_count": null,
      "metadata": {
        "colab": {
          "base_uri": "https://localhost:8080/"
        },
        "id": "RQvXVDcrv9ac",
        "outputId": "66a6a011-6c6f-4fa2-8aa3-a18205b9dc5c"
      },
      "outputs": [
        {
          "output_type": "execute_result",
          "data": {
            "text/plain": [
              "(10848, 23)"
            ]
          },
          "metadata": {},
          "execution_count": 5
        }
      ],
      "source": [
        "original_test.shape"
      ]
    },
    {
      "cell_type": "code",
      "execution_count": null,
      "metadata": {
        "colab": {
          "base_uri": "https://localhost:8080/"
        },
        "id": "nzg6KfAFlLp_",
        "outputId": "960358de-a8c6-4efc-cdf2-d805a0b32449"
      },
      "outputs": [
        {
          "output_type": "execute_result",
          "data": {
            "text/plain": [
              "   IsBadBuy  VehicleAge       Make                Model Trim         SubModel  \\\n",
              "0         1           8      DODGE  1500 RAM PICKUP 2WD   ST  REG CAB 3.7L ST   \n",
              "1         0           9     NISSAN               SENTRA  GXE         4D SEDAN   \n",
              "2         0           4  CHEVROLET  TRAILBLAZER EXT 2WD   LS   4D SUV 4.2L LS   \n",
              "3         0           5   CHRYSLER           PT CRUISER  Bas         4D SEDAN   \n",
              "4         0           5    PONTIAC           GRAND PRIX  Bas         4D SEDAN   \n",
              "\n",
              "    Color Transmission  WheelTypeID WheelType  ...  \\\n",
              "0    GREY         AUTO          1.0     Alloy  ...   \n",
              "1    BLUE         AUTO          2.0    Covers  ...   \n",
              "2   GREEN         AUTO          1.0     Alloy  ...   \n",
              "3  SILVER         AUTO          1.0     Alloy  ...   \n",
              "4   WHITE         AUTO          1.0     Alloy  ...   \n",
              "\n",
              "   MMRAcquisitionAuctionCleanPrice MMRAcquisitionRetailAveragePrice  \\\n",
              "0                           4257.0                           6863.0   \n",
              "1                           2356.0                           4635.0   \n",
              "2                           9556.0                           9393.0   \n",
              "3                           4332.0                           6951.0   \n",
              "4                           6099.0                           8291.0   \n",
              "\n",
              "  MMRAcquisitonRetailCleanPrice  MMRCurrentAuctionAveragePrice  \\\n",
              "0                        7580.0                         3496.0   \n",
              "1                        5071.0                         2223.0   \n",
              "2                       10820.0                         8407.0   \n",
              "3                        7819.0                         4154.0   \n",
              "4                        9680.0                         4089.0   \n",
              "\n",
              "   MMRCurrentAuctionCleanPrice  MMRCurrentRetailAveragePrice  \\\n",
              "0                       4363.0                        6833.0   \n",
              "1                       2613.0                        4626.0   \n",
              "2                       9652.0                        9580.0   \n",
              "3                       5268.0                        7510.0   \n",
              "4                       5451.0                        7696.0   \n",
              "\n",
              "   MMRCurrentRetailCleanPrice  VehBCost  IsOnlineSale  WarrantyCost  \n",
              "0                      7779.0    6420.0             0           920  \n",
              "1                      4975.0    3950.0             0           894  \n",
              "2                     10924.0    8520.0             0          1155  \n",
              "3                      8653.0    5870.0             0          1086  \n",
              "4                      8937.0    6595.0             0          1974  \n",
              "\n",
              "[5 rows x 24 columns]"
            ],
            "text/html": [
              "\n",
              "  <div id=\"df-dda4d8d1-3596-4c43-8854-94ce6fae4184\">\n",
              "    <div class=\"colab-df-container\">\n",
              "      <div>\n",
              "<style scoped>\n",
              "    .dataframe tbody tr th:only-of-type {\n",
              "        vertical-align: middle;\n",
              "    }\n",
              "\n",
              "    .dataframe tbody tr th {\n",
              "        vertical-align: top;\n",
              "    }\n",
              "\n",
              "    .dataframe thead th {\n",
              "        text-align: right;\n",
              "    }\n",
              "</style>\n",
              "<table border=\"1\" class=\"dataframe\">\n",
              "  <thead>\n",
              "    <tr style=\"text-align: right;\">\n",
              "      <th></th>\n",
              "      <th>IsBadBuy</th>\n",
              "      <th>VehicleAge</th>\n",
              "      <th>Make</th>\n",
              "      <th>Model</th>\n",
              "      <th>Trim</th>\n",
              "      <th>SubModel</th>\n",
              "      <th>Color</th>\n",
              "      <th>Transmission</th>\n",
              "      <th>WheelTypeID</th>\n",
              "      <th>WheelType</th>\n",
              "      <th>...</th>\n",
              "      <th>MMRAcquisitionAuctionCleanPrice</th>\n",
              "      <th>MMRAcquisitionRetailAveragePrice</th>\n",
              "      <th>MMRAcquisitonRetailCleanPrice</th>\n",
              "      <th>MMRCurrentAuctionAveragePrice</th>\n",
              "      <th>MMRCurrentAuctionCleanPrice</th>\n",
              "      <th>MMRCurrentRetailAveragePrice</th>\n",
              "      <th>MMRCurrentRetailCleanPrice</th>\n",
              "      <th>VehBCost</th>\n",
              "      <th>IsOnlineSale</th>\n",
              "      <th>WarrantyCost</th>\n",
              "    </tr>\n",
              "  </thead>\n",
              "  <tbody>\n",
              "    <tr>\n",
              "      <th>0</th>\n",
              "      <td>1</td>\n",
              "      <td>8</td>\n",
              "      <td>DODGE</td>\n",
              "      <td>1500 RAM PICKUP 2WD</td>\n",
              "      <td>ST</td>\n",
              "      <td>REG CAB 3.7L ST</td>\n",
              "      <td>GREY</td>\n",
              "      <td>AUTO</td>\n",
              "      <td>1.0</td>\n",
              "      <td>Alloy</td>\n",
              "      <td>...</td>\n",
              "      <td>4257.0</td>\n",
              "      <td>6863.0</td>\n",
              "      <td>7580.0</td>\n",
              "      <td>3496.0</td>\n",
              "      <td>4363.0</td>\n",
              "      <td>6833.0</td>\n",
              "      <td>7779.0</td>\n",
              "      <td>6420.0</td>\n",
              "      <td>0</td>\n",
              "      <td>920</td>\n",
              "    </tr>\n",
              "    <tr>\n",
              "      <th>1</th>\n",
              "      <td>0</td>\n",
              "      <td>9</td>\n",
              "      <td>NISSAN</td>\n",
              "      <td>SENTRA</td>\n",
              "      <td>GXE</td>\n",
              "      <td>4D SEDAN</td>\n",
              "      <td>BLUE</td>\n",
              "      <td>AUTO</td>\n",
              "      <td>2.0</td>\n",
              "      <td>Covers</td>\n",
              "      <td>...</td>\n",
              "      <td>2356.0</td>\n",
              "      <td>4635.0</td>\n",
              "      <td>5071.0</td>\n",
              "      <td>2223.0</td>\n",
              "      <td>2613.0</td>\n",
              "      <td>4626.0</td>\n",
              "      <td>4975.0</td>\n",
              "      <td>3950.0</td>\n",
              "      <td>0</td>\n",
              "      <td>894</td>\n",
              "    </tr>\n",
              "    <tr>\n",
              "      <th>2</th>\n",
              "      <td>0</td>\n",
              "      <td>4</td>\n",
              "      <td>CHEVROLET</td>\n",
              "      <td>TRAILBLAZER EXT 2WD</td>\n",
              "      <td>LS</td>\n",
              "      <td>4D SUV 4.2L LS</td>\n",
              "      <td>GREEN</td>\n",
              "      <td>AUTO</td>\n",
              "      <td>1.0</td>\n",
              "      <td>Alloy</td>\n",
              "      <td>...</td>\n",
              "      <td>9556.0</td>\n",
              "      <td>9393.0</td>\n",
              "      <td>10820.0</td>\n",
              "      <td>8407.0</td>\n",
              "      <td>9652.0</td>\n",
              "      <td>9580.0</td>\n",
              "      <td>10924.0</td>\n",
              "      <td>8520.0</td>\n",
              "      <td>0</td>\n",
              "      <td>1155</td>\n",
              "    </tr>\n",
              "    <tr>\n",
              "      <th>3</th>\n",
              "      <td>0</td>\n",
              "      <td>5</td>\n",
              "      <td>CHRYSLER</td>\n",
              "      <td>PT CRUISER</td>\n",
              "      <td>Bas</td>\n",
              "      <td>4D SEDAN</td>\n",
              "      <td>SILVER</td>\n",
              "      <td>AUTO</td>\n",
              "      <td>1.0</td>\n",
              "      <td>Alloy</td>\n",
              "      <td>...</td>\n",
              "      <td>4332.0</td>\n",
              "      <td>6951.0</td>\n",
              "      <td>7819.0</td>\n",
              "      <td>4154.0</td>\n",
              "      <td>5268.0</td>\n",
              "      <td>7510.0</td>\n",
              "      <td>8653.0</td>\n",
              "      <td>5870.0</td>\n",
              "      <td>0</td>\n",
              "      <td>1086</td>\n",
              "    </tr>\n",
              "    <tr>\n",
              "      <th>4</th>\n",
              "      <td>0</td>\n",
              "      <td>5</td>\n",
              "      <td>PONTIAC</td>\n",
              "      <td>GRAND PRIX</td>\n",
              "      <td>Bas</td>\n",
              "      <td>4D SEDAN</td>\n",
              "      <td>WHITE</td>\n",
              "      <td>AUTO</td>\n",
              "      <td>1.0</td>\n",
              "      <td>Alloy</td>\n",
              "      <td>...</td>\n",
              "      <td>6099.0</td>\n",
              "      <td>8291.0</td>\n",
              "      <td>9680.0</td>\n",
              "      <td>4089.0</td>\n",
              "      <td>5451.0</td>\n",
              "      <td>7696.0</td>\n",
              "      <td>8937.0</td>\n",
              "      <td>6595.0</td>\n",
              "      <td>0</td>\n",
              "      <td>1974</td>\n",
              "    </tr>\n",
              "  </tbody>\n",
              "</table>\n",
              "<p>5 rows × 24 columns</p>\n",
              "</div>\n",
              "      <button class=\"colab-df-convert\" onclick=\"convertToInteractive('df-dda4d8d1-3596-4c43-8854-94ce6fae4184')\"\n",
              "              title=\"Convert this dataframe to an interactive table.\"\n",
              "              style=\"display:none;\">\n",
              "        \n",
              "  <svg xmlns=\"http://www.w3.org/2000/svg\" height=\"24px\"viewBox=\"0 0 24 24\"\n",
              "       width=\"24px\">\n",
              "    <path d=\"M0 0h24v24H0V0z\" fill=\"none\"/>\n",
              "    <path d=\"M18.56 5.44l.94 2.06.94-2.06 2.06-.94-2.06-.94-.94-2.06-.94 2.06-2.06.94zm-11 1L8.5 8.5l.94-2.06 2.06-.94-2.06-.94L8.5 2.5l-.94 2.06-2.06.94zm10 10l.94 2.06.94-2.06 2.06-.94-2.06-.94-.94-2.06-.94 2.06-2.06.94z\"/><path d=\"M17.41 7.96l-1.37-1.37c-.4-.4-.92-.59-1.43-.59-.52 0-1.04.2-1.43.59L10.3 9.45l-7.72 7.72c-.78.78-.78 2.05 0 2.83L4 21.41c.39.39.9.59 1.41.59.51 0 1.02-.2 1.41-.59l7.78-7.78 2.81-2.81c.8-.78.8-2.07 0-2.86zM5.41 20L4 18.59l7.72-7.72 1.47 1.35L5.41 20z\"/>\n",
              "  </svg>\n",
              "      </button>\n",
              "      \n",
              "  <style>\n",
              "    .colab-df-container {\n",
              "      display:flex;\n",
              "      flex-wrap:wrap;\n",
              "      gap: 12px;\n",
              "    }\n",
              "\n",
              "    .colab-df-convert {\n",
              "      background-color: #E8F0FE;\n",
              "      border: none;\n",
              "      border-radius: 50%;\n",
              "      cursor: pointer;\n",
              "      display: none;\n",
              "      fill: #1967D2;\n",
              "      height: 32px;\n",
              "      padding: 0 0 0 0;\n",
              "      width: 32px;\n",
              "    }\n",
              "\n",
              "    .colab-df-convert:hover {\n",
              "      background-color: #E2EBFA;\n",
              "      box-shadow: 0px 1px 2px rgba(60, 64, 67, 0.3), 0px 1px 3px 1px rgba(60, 64, 67, 0.15);\n",
              "      fill: #174EA6;\n",
              "    }\n",
              "\n",
              "    [theme=dark] .colab-df-convert {\n",
              "      background-color: #3B4455;\n",
              "      fill: #D2E3FC;\n",
              "    }\n",
              "\n",
              "    [theme=dark] .colab-df-convert:hover {\n",
              "      background-color: #434B5C;\n",
              "      box-shadow: 0px 1px 3px 1px rgba(0, 0, 0, 0.15);\n",
              "      filter: drop-shadow(0px 1px 2px rgba(0, 0, 0, 0.3));\n",
              "      fill: #FFFFFF;\n",
              "    }\n",
              "  </style>\n",
              "\n",
              "      <script>\n",
              "        const buttonEl =\n",
              "          document.querySelector('#df-dda4d8d1-3596-4c43-8854-94ce6fae4184 button.colab-df-convert');\n",
              "        buttonEl.style.display =\n",
              "          google.colab.kernel.accessAllowed ? 'block' : 'none';\n",
              "\n",
              "        async function convertToInteractive(key) {\n",
              "          const element = document.querySelector('#df-dda4d8d1-3596-4c43-8854-94ce6fae4184');\n",
              "          const dataTable =\n",
              "            await google.colab.kernel.invokeFunction('convertToInteractive',\n",
              "                                                     [key], {});\n",
              "          if (!dataTable) return;\n",
              "\n",
              "          const docLinkHtml = 'Like what you see? Visit the ' +\n",
              "            '<a target=\"_blank\" href=https://colab.research.google.com/notebooks/data_table.ipynb>data table notebook</a>'\n",
              "            + ' to learn more about interactive tables.';\n",
              "          element.innerHTML = '';\n",
              "          dataTable['output_type'] = 'display_data';\n",
              "          await google.colab.output.renderOutput(dataTable, element);\n",
              "          const docLink = document.createElement('div');\n",
              "          docLink.innerHTML = docLinkHtml;\n",
              "          element.appendChild(docLink);\n",
              "        }\n",
              "      </script>\n",
              "    </div>\n",
              "  </div>\n",
              "  "
            ]
          },
          "metadata": {},
          "execution_count": 6
        }
      ],
      "source": [
        "# Displaying the fist 5 lines of the dataset\n",
        "original_train.head() "
      ]
    },
    {
      "cell_type": "code",
      "execution_count": null,
      "metadata": {
        "colab": {
          "base_uri": "https://localhost:8080/"
        },
        "id": "X3-K5Sp0XkgZ",
        "outputId": "f3b81b52-8fc3-4913-83dc-dc550d48c16b"
      },
      "outputs": [
        {
          "output_type": "stream",
          "name": "stdout",
          "text": [
            "<class 'pandas.core.frame.DataFrame'>\n",
            "RangeIndex: 25310 entries, 0 to 25309\n",
            "Data columns (total 24 columns):\n",
            " #   Column                             Non-Null Count  Dtype  \n",
            "---  ------                             --------------  -----  \n",
            " 0   IsBadBuy                           25310 non-null  int64  \n",
            " 1   VehicleAge                         25310 non-null  int64  \n",
            " 2   Make                               25310 non-null  object \n",
            " 3   Model                              25310 non-null  object \n",
            " 4   Trim                               24472 non-null  object \n",
            " 5   SubModel                           25309 non-null  object \n",
            " 6   Color                              25309 non-null  object \n",
            " 7   Transmission                       25309 non-null  object \n",
            " 8   WheelTypeID                        23476 non-null  float64\n",
            " 9   WheelType                          23474 non-null  object \n",
            " 10  VehOdo                             25310 non-null  int64  \n",
            " 11  Nationality                        25309 non-null  object \n",
            " 12  Size                               25309 non-null  object \n",
            " 13  MMRAcquisitionAuctionAveragePrice  25303 non-null  float64\n",
            " 14  MMRAcquisitionAuctionCleanPrice    25303 non-null  float64\n",
            " 15  MMRAcquisitionRetailAveragePrice   25303 non-null  float64\n",
            " 16  MMRAcquisitonRetailCleanPrice      25303 non-null  float64\n",
            " 17  MMRCurrentAuctionAveragePrice      25202 non-null  float64\n",
            " 18  MMRCurrentAuctionCleanPrice        25202 non-null  float64\n",
            " 19  MMRCurrentRetailAveragePrice       25202 non-null  float64\n",
            " 20  MMRCurrentRetailCleanPrice         25202 non-null  float64\n",
            " 21  VehBCost                           25310 non-null  float64\n",
            " 22  IsOnlineSale                       25310 non-null  int64  \n",
            " 23  WarrantyCost                       25310 non-null  int64  \n",
            "dtypes: float64(10), int64(5), object(9)\n",
            "memory usage: 4.6+ MB\n"
          ]
        }
      ],
      "source": [
        "original_train.info()"
      ]
    },
    {
      "cell_type": "markdown",
      "metadata": {
        "id": "di5FezAIp3zs"
      },
      "source": [
        "From this, we know that there are 24 columns in the original data, one of which is the target label, so there are at most 23 features for analysis. There are 9 columns whose dtype is object, and we can transform them into category type if they are useful for classification. The rest of the columns are features of numerical type, they may be straightforward to handle, but we also need to do some checks. We also see that not all data is non-null, which we'll deal with later.\n",
        "\n",
        "Next we can check if the data is balanced"
      ]
    },
    {
      "cell_type": "code",
      "execution_count": null,
      "metadata": {
        "colab": {
          "base_uri": "https://localhost:8080/"
        },
        "id": "o9A_JlEhXcIT",
        "outputId": "57cff5ce-a753-4970-bfc0-cacc9728b119"
      },
      "outputs": [
        {
          "output_type": "execute_result",
          "data": {
            "text/plain": [
              "col_0        count\n",
              "IsBadBuy          \n",
              "0         0.751758\n",
              "1         0.248242"
            ],
            "text/html": [
              "\n",
              "  <div id=\"df-998c4b27-c978-403a-8e92-b74599468835\">\n",
              "    <div class=\"colab-df-container\">\n",
              "      <div>\n",
              "<style scoped>\n",
              "    .dataframe tbody tr th:only-of-type {\n",
              "        vertical-align: middle;\n",
              "    }\n",
              "\n",
              "    .dataframe tbody tr th {\n",
              "        vertical-align: top;\n",
              "    }\n",
              "\n",
              "    .dataframe thead th {\n",
              "        text-align: right;\n",
              "    }\n",
              "</style>\n",
              "<table border=\"1\" class=\"dataframe\">\n",
              "  <thead>\n",
              "    <tr style=\"text-align: right;\">\n",
              "      <th>col_0</th>\n",
              "      <th>count</th>\n",
              "    </tr>\n",
              "    <tr>\n",
              "      <th>IsBadBuy</th>\n",
              "      <th></th>\n",
              "    </tr>\n",
              "  </thead>\n",
              "  <tbody>\n",
              "    <tr>\n",
              "      <th>0</th>\n",
              "      <td>0.751758</td>\n",
              "    </tr>\n",
              "    <tr>\n",
              "      <th>1</th>\n",
              "      <td>0.248242</td>\n",
              "    </tr>\n",
              "  </tbody>\n",
              "</table>\n",
              "</div>\n",
              "      <button class=\"colab-df-convert\" onclick=\"convertToInteractive('df-998c4b27-c978-403a-8e92-b74599468835')\"\n",
              "              title=\"Convert this dataframe to an interactive table.\"\n",
              "              style=\"display:none;\">\n",
              "        \n",
              "  <svg xmlns=\"http://www.w3.org/2000/svg\" height=\"24px\"viewBox=\"0 0 24 24\"\n",
              "       width=\"24px\">\n",
              "    <path d=\"M0 0h24v24H0V0z\" fill=\"none\"/>\n",
              "    <path d=\"M18.56 5.44l.94 2.06.94-2.06 2.06-.94-2.06-.94-.94-2.06-.94 2.06-2.06.94zm-11 1L8.5 8.5l.94-2.06 2.06-.94-2.06-.94L8.5 2.5l-.94 2.06-2.06.94zm10 10l.94 2.06.94-2.06 2.06-.94-2.06-.94-.94-2.06-.94 2.06-2.06.94z\"/><path d=\"M17.41 7.96l-1.37-1.37c-.4-.4-.92-.59-1.43-.59-.52 0-1.04.2-1.43.59L10.3 9.45l-7.72 7.72c-.78.78-.78 2.05 0 2.83L4 21.41c.39.39.9.59 1.41.59.51 0 1.02-.2 1.41-.59l7.78-7.78 2.81-2.81c.8-.78.8-2.07 0-2.86zM5.41 20L4 18.59l7.72-7.72 1.47 1.35L5.41 20z\"/>\n",
              "  </svg>\n",
              "      </button>\n",
              "      \n",
              "  <style>\n",
              "    .colab-df-container {\n",
              "      display:flex;\n",
              "      flex-wrap:wrap;\n",
              "      gap: 12px;\n",
              "    }\n",
              "\n",
              "    .colab-df-convert {\n",
              "      background-color: #E8F0FE;\n",
              "      border: none;\n",
              "      border-radius: 50%;\n",
              "      cursor: pointer;\n",
              "      display: none;\n",
              "      fill: #1967D2;\n",
              "      height: 32px;\n",
              "      padding: 0 0 0 0;\n",
              "      width: 32px;\n",
              "    }\n",
              "\n",
              "    .colab-df-convert:hover {\n",
              "      background-color: #E2EBFA;\n",
              "      box-shadow: 0px 1px 2px rgba(60, 64, 67, 0.3), 0px 1px 3px 1px rgba(60, 64, 67, 0.15);\n",
              "      fill: #174EA6;\n",
              "    }\n",
              "\n",
              "    [theme=dark] .colab-df-convert {\n",
              "      background-color: #3B4455;\n",
              "      fill: #D2E3FC;\n",
              "    }\n",
              "\n",
              "    [theme=dark] .colab-df-convert:hover {\n",
              "      background-color: #434B5C;\n",
              "      box-shadow: 0px 1px 3px 1px rgba(0, 0, 0, 0.15);\n",
              "      filter: drop-shadow(0px 1px 2px rgba(0, 0, 0, 0.3));\n",
              "      fill: #FFFFFF;\n",
              "    }\n",
              "  </style>\n",
              "\n",
              "      <script>\n",
              "        const buttonEl =\n",
              "          document.querySelector('#df-998c4b27-c978-403a-8e92-b74599468835 button.colab-df-convert');\n",
              "        buttonEl.style.display =\n",
              "          google.colab.kernel.accessAllowed ? 'block' : 'none';\n",
              "\n",
              "        async function convertToInteractive(key) {\n",
              "          const element = document.querySelector('#df-998c4b27-c978-403a-8e92-b74599468835');\n",
              "          const dataTable =\n",
              "            await google.colab.kernel.invokeFunction('convertToInteractive',\n",
              "                                                     [key], {});\n",
              "          if (!dataTable) return;\n",
              "\n",
              "          const docLinkHtml = 'Like what you see? Visit the ' +\n",
              "            '<a target=\"_blank\" href=https://colab.research.google.com/notebooks/data_table.ipynb>data table notebook</a>'\n",
              "            + ' to learn more about interactive tables.';\n",
              "          element.innerHTML = '';\n",
              "          dataTable['output_type'] = 'display_data';\n",
              "          await google.colab.output.renderOutput(dataTable, element);\n",
              "          const docLink = document.createElement('div');\n",
              "          docLink.innerHTML = docLinkHtml;\n",
              "          element.appendChild(docLink);\n",
              "        }\n",
              "      </script>\n",
              "    </div>\n",
              "  </div>\n",
              "  "
            ]
          },
          "metadata": {},
          "execution_count": 8
        }
      ],
      "source": [
        "distrib_target = pd.crosstab(index=original_train.loc[:,\"IsBadBuy\"],columns=\"count\",normalize=\"columns\")\n",
        "distrib_target"
      ]
    },
    {
      "cell_type": "markdown",
      "metadata": {
        "id": "6UCf1VcvrFQ_"
      },
      "source": [
        "The original train dataset is unbalanced, which may lead to classifiers learn worse than with balanced data. Resamplers would possibly be needed in the subsequent data collation."
      ]
    },
    {
      "cell_type": "markdown",
      "metadata": {
        "id": "V-yC8SSxuydW"
      },
      "source": [
        "#Data cleaning"
      ]
    },
    {
      "cell_type": "markdown",
      "metadata": {
        "id": "NlPEfWLY4Pjw"
      },
      "source": [
        "To perform data cleaning, we first need to understand the meaning of features corresponding to each column"
      ]
    },
    {
      "cell_type": "code",
      "execution_count": null,
      "metadata": {
        "colab": {
          "base_uri": "https://localhost:8080/"
        },
        "id": "1f4Cdqio4heN",
        "outputId": "9fb94c0c-78a6-48fb-cf6d-a6468d0ad93e"
      },
      "outputs": [
        {
          "output_type": "stream",
          "name": "stdout",
          "text": [
            "IsBadBuy\t\t\t\tIdentifies if the kicked vehicle was an avoidable purchase \n",
            "VehicleAge\t\t\t\tThe Years elapsed since the manufacturer's year\n",
            "Make\t\t\t\t\tVehicle Manufacturer \n",
            "Model\t\t\t\t\tVehicle Model\n",
            "Trim\t\t\t\t\tVehicle Trim Level\n",
            "SubModel\t\t\t\tVehicle Submodel\n",
            "Color\t\t\t\t\tVehicle Color\n",
            "Transmission\t\t\t\tVehicles transmission type (Automatic, Manual)\n",
            "WheelTypeID\t\t\t\tThe type id of the vehicle wheel\n",
            "WheelType\t\t\t\tThe vehicle wheel type description (Alloy, Covers)\n",
            "VehOdo\t\t\t\t\tThe vehicles odometer reading\n",
            "Nationality\t\t\t\tThe Manufacturer's country\n",
            "Size\t\t\t\t\tThe size category of the vehicle (Compact, SUV, etc.)\n",
            "MMRAcquisitionAuctionAveragePrice\tAcquisition price for this vehicle in average condition at time of purchase\t\n",
            "MMRAcquisitionAuctionCleanPrice\tAcquisition price for this vehicle in the above Average condition at time of purchase\n",
            "MMRAcquisitionRetailAveragePrice\tAcquisition price for this vehicle in the retail market in average condition at time of purchase\n",
            "MMRAcquisitonRetailCleanPrice\t\tAcquisition price for this vehicle in the retail market in above average condition at time of purchase\n",
            "MMRCurrentAuctionAveragePrice\t\tAcquisition price for this vehicle in average condition as of current day\t\n",
            "MMRCurrentAuctionCleanPrice\t\tAcquisition price for this vehicle in the above condition as of current day\n",
            "MMRCurrentRetailAveragePrice\t\tAcquisition price for this vehicle in the retail market in average condition as of current day\n",
            "MMRCurrentRetailCleanPrice\t\tAcquisition price for this vehicle in the retail market in above average condition as of current day\n",
            "VehBCost\t\t\t\tAcquisition cost paid for the vehicle at time of purchase\n",
            "IsOnlineSale\t\t\t\tIdentifies if the vehicle was originally purchased online\n",
            "WarrantyCost                          Warranty price (term=36month  and millage=36K) \n",
            "\n",
            "\n"
          ]
        }
      ],
      "source": [
        "with open('../content/metaData.txt') as descp:\n",
        "    print (descp.read())"
      ]
    },
    {
      "cell_type": "markdown",
      "metadata": {
        "id": "hWmKIxkU4o1f"
      },
      "source": [
        "\"IsBadBuy\" is the target tag, which should be category type.\n",
        "\n",
        "\n",
        "\"WheelTypeID\" and \"IsOnlineSale\" should also be category type though they are now numerical dtype. "
      ]
    },
    {
      "cell_type": "markdown",
      "metadata": {
        "id": "NC23JIna6PhU"
      },
      "source": [
        "##Categorical features\n",
        "We can start by picking a category feature with relatively less unique values to see if its correlation with the distribution of the target. We pick \"IsOnlineSale\""
      ]
    },
    {
      "cell_type": "code",
      "execution_count": null,
      "metadata": {
        "colab": {
          "base_uri": "https://localhost:8080/"
        },
        "id": "DwOVtvQKgOcA",
        "outputId": "07f2f43c-0a45-40ef-d65e-32f0690fc5b1"
      },
      "outputs": [
        {
          "output_type": "execute_result",
          "data": {
            "text/plain": [
              "IsBadBuy             0         1\n",
              "IsOnlineSale                    \n",
              "0             0.751662  0.248338\n",
              "1             0.755521  0.244479"
            ],
            "text/html": [
              "\n",
              "  <div id=\"df-349d2489-e768-41fc-a813-619d26a76e70\">\n",
              "    <div class=\"colab-df-container\">\n",
              "      <div>\n",
              "<style scoped>\n",
              "    .dataframe tbody tr th:only-of-type {\n",
              "        vertical-align: middle;\n",
              "    }\n",
              "\n",
              "    .dataframe tbody tr th {\n",
              "        vertical-align: top;\n",
              "    }\n",
              "\n",
              "    .dataframe thead th {\n",
              "        text-align: right;\n",
              "    }\n",
              "</style>\n",
              "<table border=\"1\" class=\"dataframe\">\n",
              "  <thead>\n",
              "    <tr style=\"text-align: right;\">\n",
              "      <th>IsBadBuy</th>\n",
              "      <th>0</th>\n",
              "      <th>1</th>\n",
              "    </tr>\n",
              "    <tr>\n",
              "      <th>IsOnlineSale</th>\n",
              "      <th></th>\n",
              "      <th></th>\n",
              "    </tr>\n",
              "  </thead>\n",
              "  <tbody>\n",
              "    <tr>\n",
              "      <th>0</th>\n",
              "      <td>0.751662</td>\n",
              "      <td>0.248338</td>\n",
              "    </tr>\n",
              "    <tr>\n",
              "      <th>1</th>\n",
              "      <td>0.755521</td>\n",
              "      <td>0.244479</td>\n",
              "    </tr>\n",
              "  </tbody>\n",
              "</table>\n",
              "</div>\n",
              "      <button class=\"colab-df-convert\" onclick=\"convertToInteractive('df-349d2489-e768-41fc-a813-619d26a76e70')\"\n",
              "              title=\"Convert this dataframe to an interactive table.\"\n",
              "              style=\"display:none;\">\n",
              "        \n",
              "  <svg xmlns=\"http://www.w3.org/2000/svg\" height=\"24px\"viewBox=\"0 0 24 24\"\n",
              "       width=\"24px\">\n",
              "    <path d=\"M0 0h24v24H0V0z\" fill=\"none\"/>\n",
              "    <path d=\"M18.56 5.44l.94 2.06.94-2.06 2.06-.94-2.06-.94-.94-2.06-.94 2.06-2.06.94zm-11 1L8.5 8.5l.94-2.06 2.06-.94-2.06-.94L8.5 2.5l-.94 2.06-2.06.94zm10 10l.94 2.06.94-2.06 2.06-.94-2.06-.94-.94-2.06-.94 2.06-2.06.94z\"/><path d=\"M17.41 7.96l-1.37-1.37c-.4-.4-.92-.59-1.43-.59-.52 0-1.04.2-1.43.59L10.3 9.45l-7.72 7.72c-.78.78-.78 2.05 0 2.83L4 21.41c.39.39.9.59 1.41.59.51 0 1.02-.2 1.41-.59l7.78-7.78 2.81-2.81c.8-.78.8-2.07 0-2.86zM5.41 20L4 18.59l7.72-7.72 1.47 1.35L5.41 20z\"/>\n",
              "  </svg>\n",
              "      </button>\n",
              "      \n",
              "  <style>\n",
              "    .colab-df-container {\n",
              "      display:flex;\n",
              "      flex-wrap:wrap;\n",
              "      gap: 12px;\n",
              "    }\n",
              "\n",
              "    .colab-df-convert {\n",
              "      background-color: #E8F0FE;\n",
              "      border: none;\n",
              "      border-radius: 50%;\n",
              "      cursor: pointer;\n",
              "      display: none;\n",
              "      fill: #1967D2;\n",
              "      height: 32px;\n",
              "      padding: 0 0 0 0;\n",
              "      width: 32px;\n",
              "    }\n",
              "\n",
              "    .colab-df-convert:hover {\n",
              "      background-color: #E2EBFA;\n",
              "      box-shadow: 0px 1px 2px rgba(60, 64, 67, 0.3), 0px 1px 3px 1px rgba(60, 64, 67, 0.15);\n",
              "      fill: #174EA6;\n",
              "    }\n",
              "\n",
              "    [theme=dark] .colab-df-convert {\n",
              "      background-color: #3B4455;\n",
              "      fill: #D2E3FC;\n",
              "    }\n",
              "\n",
              "    [theme=dark] .colab-df-convert:hover {\n",
              "      background-color: #434B5C;\n",
              "      box-shadow: 0px 1px 3px 1px rgba(0, 0, 0, 0.15);\n",
              "      filter: drop-shadow(0px 1px 2px rgba(0, 0, 0, 0.3));\n",
              "      fill: #FFFFFF;\n",
              "    }\n",
              "  </style>\n",
              "\n",
              "      <script>\n",
              "        const buttonEl =\n",
              "          document.querySelector('#df-349d2489-e768-41fc-a813-619d26a76e70 button.colab-df-convert');\n",
              "        buttonEl.style.display =\n",
              "          google.colab.kernel.accessAllowed ? 'block' : 'none';\n",
              "\n",
              "        async function convertToInteractive(key) {\n",
              "          const element = document.querySelector('#df-349d2489-e768-41fc-a813-619d26a76e70');\n",
              "          const dataTable =\n",
              "            await google.colab.kernel.invokeFunction('convertToInteractive',\n",
              "                                                     [key], {});\n",
              "          if (!dataTable) return;\n",
              "\n",
              "          const docLinkHtml = 'Like what you see? Visit the ' +\n",
              "            '<a target=\"_blank\" href=https://colab.research.google.com/notebooks/data_table.ipynb>data table notebook</a>'\n",
              "            + ' to learn more about interactive tables.';\n",
              "          element.innerHTML = '';\n",
              "          dataTable['output_type'] = 'display_data';\n",
              "          await google.colab.output.renderOutput(dataTable, element);\n",
              "          const docLink = document.createElement('div');\n",
              "          docLink.innerHTML = docLinkHtml;\n",
              "          element.appendChild(docLink);\n",
              "        }\n",
              "      </script>\n",
              "    </div>\n",
              "  </div>\n",
              "  "
            ]
          },
          "metadata": {},
          "execution_count": 10
        }
      ],
      "source": [
        "pd.crosstab(index=original_train.loc[:, 'IsOnlineSale'],\n",
        "      columns=original_train.loc[:,'IsBadBuy'], \n",
        "      normalize=\"index\",dropna=\"False\").sort_values(by=[1], ascending=False)"
      ]
    },
    {
      "cell_type": "markdown",
      "metadata": {
        "id": "qgxJaQIGiv8a"
      },
      "source": [
        "It seems that whether it is online sale or not, the distribution of \"BadBuy\" is very close to the distribution of that in the whole dataset. So maybe it is not considered a useful feature"
      ]
    },
    {
      "cell_type": "markdown",
      "metadata": {
        "id": "ekE40Jx2g13M"
      },
      "source": [
        "After that, we found that, intuitively the \"WheelType\" may has same information with \"WheelTypeID\"."
      ]
    },
    {
      "cell_type": "code",
      "execution_count": null,
      "metadata": {
        "colab": {
          "base_uri": "https://localhost:8080/"
        },
        "id": "W01xbeo_9ySq",
        "outputId": "2806d793-8888-40f9-a81b-7738185e75b5"
      },
      "outputs": [
        {
          "output_type": "stream",
          "name": "stdout",
          "text": [
            "Alloy      12284\n",
            "Covers     10922\n",
            "NaN         1836\n",
            "Special      268\n",
            "Name: WheelType, dtype: int64\n",
            "-------\n",
            "1.0    12284\n",
            "2.0    10922\n",
            "NaN     1834\n",
            "3.0      268\n",
            "0.0        2\n",
            "Name: WheelTypeID, dtype: int64\n"
          ]
        },
        {
          "output_type": "execute_result",
          "data": {
            "text/plain": [
              "<matplotlib.legend.Legend at 0x7fa7f0237bb0>"
            ]
          },
          "metadata": {},
          "execution_count": 11
        },
        {
          "output_type": "display_data",
          "data": {
            "text/plain": [
              "<Figure size 576x288 with 2 Axes>"
            ],
            "image/png": "[encoded data removed]"
          },
          "metadata": {
            "needs_background": "light"
          }
        }
      ],
      "source": [
        "print(original_train.WheelType.value_counts(dropna=False))\n",
        "print('-------')\n",
        "print(original_train.WheelTypeID.value_counts(dropna=False))\n",
        "distrib_WheelType = pd.crosstab(index=original_train.loc[:, 'WheelType'],columns=original_train.loc[:,'IsBadBuy'])\n",
        "distrib_WheelType.columns = [\"no\", \"yes\"]\n",
        "distrib_WheelTypeID = pd.crosstab(index=original_train.loc[:, 'WheelTypeID'],columns=original_train.loc[:,'IsBadBuy'])\n",
        "distrib_WheelTypeID.columns = [\"no\", \"yes\"]\n",
        "fig, ax = plt.subplots(1,2,figsize=(8,4))\n",
        "distrib_WheelType.iloc[:,0:2].plot(kind='bar',ax=ax[0],linewidth=1)\n",
        "ax[0].legend(title=\"IsBadBuy\")\n",
        "distrib_WheelTypeID.iloc[:,0:2].plot(kind='bar',ax=ax[1],linewidth=1)\n",
        "ax[1].legend(title=\"IsBadBuy\")"
      ]
    },
    {
      "cell_type": "markdown",
      "metadata": {
        "id": "-a764HR7pZpT"
      },
      "source": [
        "From the count of each value and the distribution of \"IsBadBuy\", we can see \"WheelType\" and \"WheelTypeID\" almost have same information, so we can drop the \"WheelTypeID\" column."
      ]
    },
    {
      "cell_type": "markdown",
      "metadata": {
        "id": "jhMPUH4PqL6w"
      },
      "source": [
        "Then we look at how many unique values are contained in each categorical feature."
      ]
    },
    {
      "cell_type": "code",
      "execution_count": null,
      "metadata": {
        "colab": {
          "base_uri": "https://localhost:8080/"
        },
        "id": "bTQUhpY_rE7_",
        "outputId": "908eb7f6-9094-485b-a24e-0b21708da6b8"
      },
      "outputs": [
        {
          "output_type": "stream",
          "name": "stdout",
          "text": [
            "Make\n",
            "----\n",
            "unique sum:  31\n",
            "-------------------------------------------------------------------------------\n",
            "Model\n",
            "----\n",
            "unique sum:  898\n",
            "-------------------------------------------------------------------------------\n",
            "Trim\n",
            "----\n",
            "unique sum:  125\n",
            "-------------------------------------------------------------------------------\n",
            "SubModel\n",
            "----\n",
            "unique sum:  694\n",
            "-------------------------------------------------------------------------------\n",
            "Color\n",
            "----\n",
            "unique sum:  17\n",
            "-------------------------------------------------------------------------------\n",
            "Transmission\n",
            "----\n",
            "unique sum:  4\n",
            "-------------------------------------------------------------------------------\n",
            "WheelType\n",
            "----\n",
            "unique sum:  4\n",
            "-------------------------------------------------------------------------------\n",
            "Nationality\n",
            "----\n",
            "unique sum:  5\n",
            "-------------------------------------------------------------------------------\n",
            "Size\n",
            "----\n",
            "unique sum:  13\n",
            "-------------------------------------------------------------------------------\n",
            "IsOnlineSale\n",
            "----\n",
            "unique sum:  2\n",
            "-------------------------------------------------------------------------------\n"
          ]
        }
      ],
      "source": [
        "category_col = ['Make','Model','Trim','SubModel','Color','Transmission','WheelType','Nationality','Size','IsOnlineSale']\n",
        "for i in category_col:\n",
        "    print(i)\n",
        "    print(\"----\")\n",
        "    #print('unique: ', original_train.loc[:,i].unique())\n",
        "    print('unique sum: ', len(original_train.loc[:,i].unique()))\n",
        "    print(\"-------------------------------------------------------------------------------\")"
      ]
    },
    {
      "cell_type": "markdown",
      "metadata": {
        "id": "aYOF4lXDs_bP"
      },
      "source": [
        "'Model', 'Trim' and 'SubModel' have too many values, we would try dropping them to decrease computational consumption."
      ]
    },
    {
      "cell_type": "markdown",
      "metadata": {
        "id": "VV-pGGiXtubV"
      },
      "source": [
        "Let's see if the values in the rest of the features are reasonable"
      ]
    },
    {
      "cell_type": "code",
      "execution_count": null,
      "metadata": {
        "colab": {
          "base_uri": "https://localhost:8080/"
        },
        "id": "DTOG16rmtm8A",
        "outputId": "ae9f17c6-d83f-491c-d840-96c9c37a5e45"
      },
      "outputs": [
        {
          "output_type": "stream",
          "name": "stdout",
          "text": [
            "Make\n",
            "unique:  ['DODGE' 'NISSAN' 'CHEVROLET' 'CHRYSLER' 'PONTIAC' 'FORD' 'TOYOTA'\n",
            " 'SATURN' 'KIA' 'JEEP' 'MAZDA' 'MITSUBISHI' 'SUZUKI' 'OLDSMOBILE' 'GMC'\n",
            " 'HONDA' 'BUICK' 'HYUNDAI' 'MERCURY' 'VOLKSWAGEN' 'LINCOLN' 'LEXUS'\n",
            " 'CADILLAC' 'SCION' 'MINI' 'ISUZU' 'ACURA' 'SUBARU' 'INFINITI' 'VOLVO'\n",
            " 'TOYOTA SCION']\n",
            "-------------------------------------------------------------------------------\n",
            "Color\n",
            "unique:  ['GREY' 'BLUE' 'GREEN' 'SILVER' 'WHITE' 'RED' 'GOLD' 'BLACK' 'MAROON'\n",
            " 'BEIGE' 'ORANGE' 'BROWN' 'YELLOW' 'NOT AVAIL' 'OTHER' 'PURPLE' nan]\n",
            "-------------------------------------------------------------------------------\n",
            "Transmission\n",
            "unique:  ['AUTO' 'MANUAL' nan 'Manual']\n",
            "-------------------------------------------------------------------------------\n",
            "WheelType\n",
            "unique:  ['Alloy' 'Covers' nan 'Special']\n",
            "-------------------------------------------------------------------------------\n",
            "Nationality\n",
            "unique:  ['AMERICAN' 'TOP LINE ASIAN' 'OTHER ASIAN' 'OTHER' nan]\n",
            "-------------------------------------------------------------------------------\n",
            "Size\n",
            "unique:  ['LARGE TRUCK' 'COMPACT' 'MEDIUM SUV' 'MEDIUM' 'LARGE' 'VAN' 'SPECIALTY'\n",
            " 'CROSSOVER' 'LARGE SUV' 'SMALL SUV' 'SPORTS' 'SMALL TRUCK' nan]\n",
            "-------------------------------------------------------------------------------\n"
          ]
        }
      ],
      "source": [
        "category_col_conc = ['Make','Color','Transmission','WheelType','Nationality','Size']\n",
        "for i in category_col_conc:\n",
        "    print(i)\n",
        "    print('unique: ', original_train.loc[:,i].unique())\n",
        "    print(\"-------------------------------------------------------------------------------\")"
      ]
    },
    {
      "cell_type": "markdown",
      "metadata": {
        "id": "cH6EDG6mxBA2"
      },
      "source": [
        "In \"Model\", we have reason to believe that \"TOYOTA SCION\" and \"SCION\" refer to the same value.\n",
        "\n",
        "In \"Color\", nan values can be classified as \"NOT AVAIL\".\n",
        "\n",
        "In \"Transmission\", \"MANUAL\" and \"Manual\" should be merged into one.\n",
        "\n",
        "In other features, the nan values should also be replaced."
      ]
    },
    {
      "cell_type": "markdown",
      "metadata": {
        "id": "1Rpgw7dZ6ktX"
      },
      "source": [
        "##Numerical features\n"
      ]
    },
    {
      "cell_type": "markdown",
      "metadata": {
        "id": "mo6RboMCkhiT"
      },
      "source": [
        "Let's first look at the distribution of each feature."
      ]
    },
    {
      "cell_type": "code",
      "execution_count": null,
      "metadata": {
        "colab": {
          "base_uri": "https://localhost:8080/"
        },
        "id": "gWFJVINw7VXA",
        "outputId": "21cf5a10-8a30-4e72-d851-7cff857fbe91"
      },
      "outputs": [
        {
          "output_type": "execute_result",
          "data": {
            "text/plain": [
              "array([[<matplotlib.axes._subplots.AxesSubplot object at 0x7fa7f00d1e80>,\n",
              "        <matplotlib.axes._subplots.AxesSubplot object at 0x7fa7efc26610>,\n",
              "        <matplotlib.axes._subplots.AxesSubplot object at 0x7fa7efbcda30>],\n",
              "       [<matplotlib.axes._subplots.AxesSubplot object at 0x7fa7efbfde20>,\n",
              "        <matplotlib.axes._subplots.AxesSubplot object at 0x7fa7efbb6280>,\n",
              "        <matplotlib.axes._subplots.AxesSubplot object at 0x7fa7efb63610>],\n",
              "       [<matplotlib.axes._subplots.AxesSubplot object at 0x7fa7efb63700>,\n",
              "        <matplotlib.axes._subplots.AxesSubplot object at 0x7fa7efb12b80>,\n",
              "        <matplotlib.axes._subplots.AxesSubplot object at 0x7fa7efafa340>],\n",
              "       [<matplotlib.axes._subplots.AxesSubplot object at 0x7fa7efaa8760>,\n",
              "        <matplotlib.axes._subplots.AxesSubplot object at 0x7fa7efa55b50>,\n",
              "        <matplotlib.axes._subplots.AxesSubplot object at 0x7fa7efa04f40>]],\n",
              "      dtype=object)"
            ]
          },
          "metadata": {},
          "execution_count": 14
        },
        {
          "output_type": "display_data",
          "data": {
            "text/plain": [
              "<Figure size 1296x720 with 12 Axes>"
            ],
            "image/png": "[encoded data removed]"
          },
          "metadata": {
            "needs_background": "light"
          }
        }
      ],
      "source": [
        "columns_to_drop=['IsBadBuy','WheelTypeID','IsOnlineSale']\n",
        "numerical_features = original_train.select_dtypes(include = ['float64', 'int64']).columns.drop(columns_to_drop)\n",
        "original_train[numerical_features].hist(figsize=(18, 10), bins=50,xlabelsize=8, ylabelsize=8)"
      ]
    },
    {
      "cell_type": "markdown",
      "metadata": {
        "id": "T5OzBCNKmEQV"
      },
      "source": [
        "It can be seen that the values of the features follow an intuitively reasonable distribution, but in the MMR-values, the zero values seem to be counterintuitively high. According to the overall distribution trend, in the very low price range, the cheaper the car should be the less, so the car with a value of 0 may have an input error in its data. Consider treating them as null values or eliminating them"
      ]
    },
    {
      "cell_type": "code",
      "execution_count": null,
      "metadata": {
        "colab": {
          "base_uri": "https://localhost:8080/"
        },
        "id": "q-QXMPu4B4VC",
        "outputId": "5c622490-913b-4722-b9eb-d75f129ceea2"
      },
      "outputs": [
        {
          "output_type": "stream",
          "name": "stdout",
          "text": [
            "295\n",
            "249\n",
            "295\n",
            "295\n",
            "170\n",
            "127\n",
            "170\n",
            "170\n"
          ]
        }
      ],
      "source": [
        "MMR=['MMRAcquisitionAuctionAveragePrice','MMRAcquisitionAuctionCleanPrice','MMRAcquisitionRetailAveragePrice','MMRAcquisitonRetailCleanPrice',\n",
        "     'MMRCurrentAuctionAveragePrice','MMRCurrentAuctionCleanPrice','MMRCurrentRetailAveragePrice','MMRCurrentRetailCleanPrice']\n",
        "for i in MMR:\n",
        "  mask = original_train.loc[:,i] ==0\n",
        "  print(mask.sum())"
      ]
    },
    {
      "cell_type": "markdown",
      "metadata": {
        "id": "Sg_0hdF4pPsM"
      },
      "source": [
        "In addition, it is observed in the histogram of \"VehBCost\" that the position where the values concentrate has a long distance from the left and right boundaries. By looking at the values on both sides, 12 outliers can be found. However, it is possible that these values are reasonable and the small number of outliers may not affect training model."
      ]
    },
    {
      "cell_type": "code",
      "execution_count": null,
      "metadata": {
        "colab": {
          "base_uri": "https://localhost:8080/"
        },
        "id": "U0juCcwIA-kD",
        "outputId": "5c7bd702-3775-4e6e-bfe2-e965710c3d20"
      },
      "outputs": [
        {
          "output_type": "stream",
          "name": "stdout",
          "text": [
            "11\n"
          ]
        },
        {
          "output_type": "execute_result",
          "data": {
            "text/plain": [
              "<matplotlib.axes._subplots.AxesSubplot at 0x7fa7ef1e6f40>"
            ]
          },
          "metadata": {},
          "execution_count": 16
        },
        {
          "output_type": "display_data",
          "data": {
            "text/plain": [
              "<Figure size 432x288 with 1 Axes>"
            ],
            "image/png": "[encoded data removed]"
          },
          "metadata": {
            "needs_background": "light"
          }
        }
      ],
      "source": [
        "mask = original_train.loc[:,\"VehBCost\"] >15000\n",
        "print(mask.sum())\n",
        "original_train.loc[mask,\"VehBCost\"].hist()"
      ]
    },
    {
      "cell_type": "code",
      "execution_count": null,
      "metadata": {
        "colab": {
          "base_uri": "https://localhost:8080/"
        },
        "id": "NpyKKp3Zn-_f",
        "outputId": "7acaf213-2a43-47c0-bf9b-15e510c702af"
      },
      "outputs": [
        {
          "output_type": "stream",
          "name": "stdout",
          "text": [
            "1\n"
          ]
        },
        {
          "output_type": "execute_result",
          "data": {
            "text/plain": [
              "<matplotlib.axes._subplots.AxesSubplot at 0x7fa7ef1eaa30>"
            ]
          },
          "metadata": {},
          "execution_count": 17
        },
        {
          "output_type": "display_data",
          "data": {
            "text/plain": [
              "<Figure size 432x288 with 1 Axes>"
            ],
            "image/png": "[encoded data removed]"
          },
          "metadata": {
            "needs_background": "light"
          }
        }
      ],
      "source": [
        "mask = original_train.loc[:,\"VehBCost\"] <1000\n",
        "print(mask.sum())\n",
        "original_train.loc[mask,\"VehBCost\"].hist()"
      ]
    },
    {
      "cell_type": "markdown",
      "metadata": {
        "id": "QgbLgQdCqVS6"
      },
      "source": [
        "Then let's look at the correlation of each numerical feature."
      ]
    },
    {
      "cell_type": "code",
      "execution_count": null,
      "metadata": {
        "colab": {
          "base_uri": "https://localhost:8080/"
        },
        "id": "5jvefGyg6tk0",
        "outputId": "f8621ef5-db8a-4acd-9e8e-c359397b9bf5"
      },
      "outputs": [
        {
          "output_type": "execute_result",
          "data": {
            "text/plain": [
              "<matplotlib.axes._subplots.AxesSubplot at 0x7fa7ef16e910>"
            ]
          },
          "metadata": {},
          "execution_count": 18
        },
        {
          "output_type": "display_data",
          "data": {
            "text/plain": [
              "<Figure size 1008x720 with 2 Axes>"
            ],
            "image/png": "[encoded data removed]"
          },
          "metadata": {
            "needs_background": "light"
          }
        }
      ],
      "source": [
        "plt.figure(figsize=(14, 10))\n",
        "mask_matrix=np.triu(original_train[numerical_features].corr())\n",
        "sns.heatmap(original_train[numerical_features].corr(), annot=True, cmap=plt.cm.Reds,mask=mask_matrix)"
      ]
    },
    {
      "cell_type": "markdown",
      "metadata": {
        "id": "YMXIqNvkqUec"
      },
      "source": [
        "It is clear that the correlation of MMR-values are high, reachiing 0.99. \n",
        "We can drop at least half of them without any significant impact on the information of the training data"
      ]
    },
    {
      "cell_type": "markdown",
      "metadata": {
        "id": "ZvkFo8uotFJm"
      },
      "source": [
        "Finally, let's look at the null and duplicate."
      ]
    },
    {
      "cell_type": "code",
      "execution_count": null,
      "metadata": {
        "colab": {
          "base_uri": "https://localhost:8080/"
        },
        "id": "7nLSc8vBgSUQ",
        "outputId": "8e79a942-883f-403f-fc37-d83093137599"
      },
      "outputs": [
        {
          "output_type": "stream",
          "name": "stdout",
          "text": [
            "IsBadBuy                                0\n",
            "VehicleAge                              0\n",
            "Make                                    0\n",
            "Model                                   0\n",
            "Trim                                  838\n",
            "SubModel                                1\n",
            "Color                                   1\n",
            "Transmission                            1\n",
            "WheelTypeID                          1834\n",
            "WheelType                            1836\n",
            "VehOdo                                  0\n",
            "Nationality                             1\n",
            "Size                                    1\n",
            "MMRAcquisitionAuctionAveragePrice       7\n",
            "MMRAcquisitionAuctionCleanPrice         7\n",
            "MMRAcquisitionRetailAveragePrice        7\n",
            "MMRAcquisitonRetailCleanPrice           7\n",
            "MMRCurrentAuctionAveragePrice         108\n",
            "MMRCurrentAuctionCleanPrice           108\n",
            "MMRCurrentRetailAveragePrice          108\n",
            "MMRCurrentRetailCleanPrice            108\n",
            "VehBCost                                0\n",
            "IsOnlineSale                            0\n",
            "WarrantyCost                            0\n",
            "dtype: int64\n",
            "---------------------\n",
            "Sum of Duplicates 0\n"
          ]
        }
      ],
      "source": [
        "print(original_train.isna().sum())\n",
        "print(\"---------------------\")\n",
        "print('Sum of Duplicates', original_train.duplicated().sum())"
      ]
    },
    {
      "cell_type": "markdown",
      "metadata": {
        "id": "zBDCvSJVuKy4"
      },
      "source": [
        "##Summary"
      ]
    },
    {
      "cell_type": "markdown",
      "metadata": {
        "id": "W0N0OuJiuOd5"
      },
      "source": [
        "1. We need to take out the \"IsBadBuy\" as the target label.\n",
        "2. In the categorical features, \"IsOnlinSale\" is nearly independent with the target, \"Model\", \"Trim\" and \"Submodel\" features have too many values, making it difficult to classify, and \"WheelTypeID\" is repeated information of \"WheelType\", so drop these 5 features.\n",
        "3. In the categorical features, some features have different values practically refer to same concept, should be merged.\n",
        "4. In numerical features, some features(MMR-values) have very high correlation, and only half or less of them need to be kept.\n",
        "5. In numerical features, there are some outliers that may need to be dropped.\n",
        "6. In both features, there are many null values, which may be considered to be dropped or filled with suitable data."
      ]
    },
    {
      "cell_type": "markdown",
      "metadata": {
        "id": "a4pbNaXJyT1T"
      },
      "source": [
        "##Data cleaning function"
      ]
    },
    {
      "cell_type": "code",
      "execution_count": null,
      "metadata": {
        "id": "_o0CE0m1IDvk"
      },
      "outputs": [],
      "source": [
        "def clean_data(inputdf,drop_high_corr=True,drop_outlier=False,modify_MMR_zeros=False):\n",
        "  \n",
        "  #Copy a new dataset in case this may affects the source data\n",
        "  dataset=inputdf.copy(deep=True)\n",
        "\n",
        "  #Drop the independent feature and features with too many categories or redundant information\n",
        "  dataset.drop(['IsOnlineSale','Model','Trim','SubModel','WheelTypeID'],axis=1,inplace=True)\n",
        "\n",
        "  #Replace different values with same meaning\n",
        "  dataset.Transmission.replace(to_replace='Manual', value = \"MANUAL\", inplace = True)\n",
        "  dataset.Make.replace(to_replace='TOYOTA SCION', value = \"SCION\", inplace = True)\n",
        "  \n",
        "  #Replace the 0 values in MMRs with null values [optional] \n",
        "    #so that they will be filled with the mean values in the next step\n",
        "    #Not sure if it is right to handle the outliers in MMRs, \n",
        "    #because there are also a lot of 0s in test data too. \n",
        "    #This function can choose to change them to null, or not change them. \n",
        "    #We can compare the effect of each strategy\n",
        "  MMR=['MMRAcquisitionAuctionAveragePrice','MMRAcquisitionAuctionCleanPrice',\n",
        "     'MMRAcquisitionRetailAveragePrice','MMRAcquisitonRetailCleanPrice',\n",
        "     'MMRCurrentAuctionAveragePrice','MMRCurrentAuctionCleanPrice',\n",
        "     'MMRCurrentRetailAveragePrice','MMRCurrentRetailCleanPrice']\n",
        "  if modify_MMR_zeros==True:\n",
        "    for i in MMR:\n",
        "      dataset.loc[:,i].replace(to_replace=0, value = np.NaN, inplace = True)\n",
        "  \n",
        "  #Fill null with \"NOT AVAIL\", just to match a existing category in \"Color\"\n",
        "  #I think this is no different from filling with \"Unknown\"\n",
        "\n",
        "  categorical_values = {'Color': 'NOT AVAIL','Transmission': 'NOT AVAIL','WheelType': 'NOT AVAIL','Nationality': 'NOT AVAIL','Size': 'NOT AVAIL'}\n",
        "  dataset.fillna(value=categorical_values,inplace=True)\n",
        "\n",
        "  #Fill null with mean values, which need to be calculated beyond this function\n",
        "  numerical_values=dataset.select_dtypes(include = ['float64', 'int64']).columns.tolist()\n",
        "  dataset[numerical_values]=SimpleImputer(missing_values=np.nan, strategy='mean').fit_transform(dataset[numerical_values])\n",
        " \n",
        "  #Drop outliers in \"VehBCost\" [optional]\n",
        "  if drop_outlier==True:\n",
        "    mask_1 = dataset.loc[:,\"VehBCost\"] < 1000\n",
        "    mask_2 = dataset.loc[:,\"VehBCost\"] > 20000\n",
        "    mask=mask_1+mask_2\n",
        "    dataset=dataset.loc[~mask,:]\n",
        "\n",
        "  #Drop MMRs with high correlation [optional]\n",
        "  if drop_high_corr==True:\n",
        "    dataset.drop(['MMRAcquisitionAuctionCleanPrice','MMRAcquisitonRetailCleanPrice','MMRCurrentAuctionCleanPrice','MMRCurrentRetailCleanPrice'],axis=1,inplace=True)\n",
        "  \n",
        "  cat_cols = ['Make','Color','Transmission','WheelType','Nationality','Size']\n",
        "\n",
        "  #Transform each feature into proper type\n",
        "  for i in cat_cols:\n",
        "    dataset[i] = dataset[i].astype(\"category\")\n",
        "\n",
        "  return dataset"
      ]
    },
    {
      "cell_type": "code",
      "source": [
        "def clean_data_more_features(inputdf,drop_outlier=False,modify_MMR_zeros=False):\n",
        "  \n",
        "  dataset=inputdf.copy(deep=True)\n",
        "\n",
        "  dataset.drop(['WheelTypeID'],axis=1,inplace=True)\n",
        "\n",
        "  dataset.Transmission.replace(to_replace='Manual', value = \"MANUAL\", inplace = True)\n",
        "  dataset.Make.replace(to_replace='TOYOTA SCION', value = \"SCION\", inplace = True)\n",
        "  \n",
        "  MMR=['MMRAcquisitionAuctionAveragePrice','MMRAcquisitionAuctionCleanPrice',\n",
        "     'MMRAcquisitionRetailAveragePrice','MMRAcquisitonRetailCleanPrice',\n",
        "     'MMRCurrentAuctionAveragePrice','MMRCurrentAuctionCleanPrice',\n",
        "     'MMRCurrentRetailAveragePrice','MMRCurrentRetailCleanPrice']\n",
        "  if modify_MMR_zeros==True:\n",
        "    for i in MMR:\n",
        "      dataset.loc[:,i].replace(to_replace=0, value = np.NaN, inplace = True)\n",
        "\n",
        "  categorical_values = {'Color': 'NOT AVAIL','Transmission': 'NOT AVAIL','WheelType': 'NOT AVAIL','Nationality': 'NOT AVAIL','Size': 'NOT AVAIL','IsOnlineSale': 'NOT AVAIL','Model': 'NOT AVAIL','Trim': 'NOT AVAIL','SubModel': 'NOT AVAIL',}\n",
        "  dataset.fillna(value=categorical_values,inplace=True)\n",
        "\n",
        "  cat_cols = ['Make','Color','Transmission','WheelType','Nationality','Size','IsOnlineSale','Model','Trim','SubModel']\n",
        "  for i in cat_cols:\n",
        "    dataset[i] = dataset[i].astype(\"category\")\n",
        "\n",
        "  numerical_values=dataset.select_dtypes(include = ['float64', 'int64']).columns.tolist()\n",
        "  dataset[numerical_values]=SimpleImputer(missing_values=np.nan, strategy='mean').fit_transform(dataset[numerical_values])\n",
        " \n",
        "  if drop_outlier==True:\n",
        "    mask_1 = dataset.loc[:,\"VehBCost\"] < 1000\n",
        "    mask_2 = dataset.loc[:,\"VehBCost\"] > 20000\n",
        "    mask=mask_1+mask_2\n",
        "    dataset=dataset.loc[~mask,:]\n",
        "\n",
        "  return dataset"
      ],
      "metadata": {
        "id": "0Y3d9frKH_r_"
      },
      "execution_count": null,
      "outputs": []
    },
    {
      "cell_type": "code",
      "execution_count": null,
      "metadata": {
        "id": "NuFVzSS9IeBc"
      },
      "outputs": [],
      "source": [
        "def Encoder(inputdf,Encoder='onehot',features='less'):\n",
        "  fit1=x_train_cleaned.copy(deep=True)\n",
        "  fit2=x_test_cleaned.copy(deep=True)\n",
        "  copy=inputdf.copy(deep=True)\n",
        "  if features=='more':\n",
        "    cat_cols = ['Make','Color','Transmission','WheelType','Nationality','Size','IsOnlineSale','Model','Trim','SubModel']\n",
        "  else:\n",
        "    cat_cols = ['Make','Color','Transmission','WheelType','Nationality','Size']\n",
        "  if Encoder == 'onehot':\n",
        "    ohe= OneHotEncoder(sparse=False,handle_unknown='ignore')\n",
        "    col_transformer = ColumnTransformer([(\"OHE\", ohe, cat_cols)], remainder=\"passthrough\")\n",
        "    col_transformer.fit(pd.concat([fit1,fit2],axis=0))\n",
        "    ohe_names = col_transformer.named_transformers_['OHE'].get_feature_names(cat_cols)\n",
        "    remaining_names = copy.columns[col_transformer._remainder[2]]\n",
        "    copy = pd.DataFrame(col_transformer.transform(copy),columns=list(ohe_names)+list(remaining_names),index=copy.index)\n",
        "  elif Encoder == 'label':\n",
        "    for i in cat_cols:\n",
        "      label_encoder = LabelEncoder().fit(pd.concat([fit1,fit2],axis=0)[i])\n",
        "      copy[i] = label_encoder.transform(copy[i])\n",
        "  \n",
        "  return copy"
      ]
    },
    {
      "cell_type": "markdown",
      "metadata": {
        "id": "2MZCkRyABggg"
      },
      "source": [
        "#Data Preparation"
      ]
    },
    {
      "cell_type": "code",
      "execution_count": null,
      "metadata": {
        "id": "5c3CL3fXAlC7"
      },
      "outputs": [],
      "source": [
        "x_train = original_train.drop('IsBadBuy',axis=1).copy(deep=True)\n",
        "y_train = original_train.loc[:,'IsBadBuy'].copy(deep=True)\n",
        "x_test = original_test.copy(deep=True)"
      ]
    },
    {
      "cell_type": "markdown",
      "source": [
        "###With less features"
      ],
      "metadata": {
        "id": "mVs0N666L9eH"
      }
    },
    {
      "cell_type": "code",
      "execution_count": null,
      "metadata": {
        "id": "m9OsWSw_BEp0"
      },
      "outputs": [],
      "source": [
        "x_train_cleaned = clean_data(x_train,drop_high_corr=True,drop_outlier=True,modify_MMR_zeros=True)\n",
        "y_train = y_train.loc[x_train_cleaned.index]\n",
        "x_test_cleaned = clean_data(x_test,drop_high_corr=True,drop_outlier=False,modify_MMR_zeros=True)"
      ]
    },
    {
      "cell_type": "code",
      "execution_count": null,
      "metadata": {
        "colab": {
          "base_uri": "https://localhost:8080/"
        },
        "id": "cmbPwkwOLBlr",
        "outputId": "73a05da6-8b86-451b-e24e-75f87b98a90f"
      },
      "outputs": [
        {
          "output_type": "stream",
          "name": "stderr",
          "text": [
            "/usr/local/lib/python3.8/dist-packages/sklearn/utils/deprecation.py:87: FutureWarning: Function get_feature_names is deprecated; get_feature_names is deprecated in 1.0 and will be removed in 1.2. Please use get_feature_names_out instead.\n",
            "  warnings.warn(msg, category=FutureWarning)\n",
            "/usr/local/lib/python3.8/dist-packages/sklearn/utils/deprecation.py:87: FutureWarning: Function get_feature_names is deprecated; get_feature_names is deprecated in 1.0 and will be removed in 1.2. Please use get_feature_names_out instead.\n",
            "  warnings.warn(msg, category=FutureWarning)\n"
          ]
        }
      ],
      "source": [
        "X_train_all=Encoder(x_train_cleaned,Encoder='onehot')\n",
        "X_test=Encoder(x_test_cleaned,Encoder='onehot')"
      ]
    },
    {
      "cell_type": "markdown",
      "source": [
        "###With more features"
      ],
      "metadata": {
        "id": "qL2LV916MBnA"
      }
    },
    {
      "cell_type": "code",
      "source": [
        "x_train_cleaned = clean_data_more_features(x_train,drop_outlier=True,modify_MMR_zeros=True)\n",
        "y_train = y_train.loc[x_train_cleaned.index]\n",
        "x_test_cleaned = clean_data_more_features(x_test,drop_outlier=False,modify_MMR_zeros=True)"
      ],
      "metadata": {
        "id": "OsFEQ6coLNjH"
      },
      "execution_count": null,
      "outputs": []
    },
    {
      "cell_type": "code",
      "source": [
        "X_train_all=Encoder(x_train_cleaned,Encoder='onehot',features='more')\n",
        "X_test=Encoder(x_test_cleaned,Encoder='onehot',features='more')"
      ],
      "metadata": {
        "colab": {
          "base_uri": "https://localhost:8080/"
        },
        "id": "Wd23uicoL4Zr",
        "outputId": "cb1fd7ba-96a5-4889-a3fd-b96ca98fb441"
      },
      "execution_count": null,
      "outputs": [
        {
          "output_type": "stream",
          "name": "stderr",
          "text": [
            "/usr/local/lib/python3.8/dist-packages/sklearn/utils/deprecation.py:87: FutureWarning: Function get_feature_names is deprecated; get_feature_names is deprecated in 1.0 and will be removed in 1.2. Please use get_feature_names_out instead.\n",
            "  warnings.warn(msg, category=FutureWarning)\n",
            "/usr/local/lib/python3.8/dist-packages/sklearn/utils/deprecation.py:87: FutureWarning: Function get_feature_names is deprecated; get_feature_names is deprecated in 1.0 and will be removed in 1.2. Please use get_feature_names_out instead.\n",
            "  warnings.warn(msg, category=FutureWarning)\n"
          ]
        }
      ]
    },
    {
      "cell_type": "markdown",
      "source": [
        "###Split and resample(optional)"
      ],
      "metadata": {
        "id": "758cgPBAMG_D"
      }
    },
    {
      "cell_type": "code",
      "execution_count": null,
      "metadata": {
        "id": "TNEsIzwjCRC0"
      },
      "outputs": [],
      "source": [
        "X_train, X_val, Y_train, Y_val = train_test_split(X_train_all,y_train,random_state=5,test_size=0.4)"
      ]
    },
    {
      "cell_type": "code",
      "execution_count": null,
      "metadata": {
        "id": "v1nexE5vHjgR"
      },
      "outputs": [],
      "source": [
        "#oversampler=SMOTE(random_state=0)\n",
        "#X_train,Y_train=oversampler.fit_resample(X_train,Y_train)"
      ]
    },
    {
      "cell_type": "markdown",
      "metadata": {
        "id": "2gtZC5yuQJw2"
      },
      "source": [
        "#Build and Select Classifier"
      ]
    },
    {
      "cell_type": "markdown",
      "metadata": {
        "id": "5bRKr6bYf29z"
      },
      "source": [
        "### Regularized Logistic Regression"
      ]
    },
    {
      "cell_type": "code",
      "execution_count": null,
      "metadata": {
        "colab": {
          "base_uri": "https://localhost:8080/"
        },
        "id": "CjsNhXnrf2o1",
        "outputId": "f1f48e0c-3cf1-42e1-c11e-6442eacafd6f"
      },
      "outputs": [
        {
          "output_type": "stream",
          "name": "stdout",
          "text": [
            "logistic regression train accurary:  75.47\n",
            "logistic regression test accurary:  74.86\n",
            "logistic regression test ROC:  0.629\n"
          ]
        }
      ],
      "source": [
        "logreg = LogisticRegression() # Check LogsiticRegressionCV function instead, does cross-validation on top of reg logistic regression\n",
        "clf_logreg = logreg.fit(X_train, Y_train) # Train classifier (clf)\n",
        "acc_train_log = round(logreg.score(X_train, Y_train) * 100, 2)\n",
        "acc_test_log = round(logreg.score(X_val, Y_val) * 100, 2)\n",
        "roc_test_log = round(roc_auc_score(Y_val, clf_logreg.predict_proba(X_val)[:, 1]),3) # We imported roc_auc_score from sklearn\n",
        "print('logistic regression train accurary: ',acc_train_log)\n",
        "print('logistic regression test accurary: ',acc_test_log)\n",
        "print('logistic regression test ROC: ',roc_test_log)"
      ]
    },
    {
      "cell_type": "markdown",
      "metadata": {
        "id": "KtC6OYxof3Z9"
      },
      "source": [
        "### Random Forest"
      ]
    },
    {
      "cell_type": "code",
      "execution_count": null,
      "metadata": {
        "colab": {
          "base_uri": "https://localhost:8080/"
        },
        "id": "_49eSxjUf1JY",
        "outputId": "94efa6bf-2a30-4628-bb01-5739368c1796"
      },
      "outputs": [
        {
          "output_type": "stream",
          "name": "stdout",
          "text": [
            "Random Forest train accurary:  100.0\n",
            "Random Forest test accurary:  79.58\n",
            "Random Forest test ROC:  0.735\n"
          ]
        }
      ],
      "source": [
        "random_forest = RandomForestClassifier(n_estimators=300, criterion='gini')\n",
        "clf_RF = random_forest.fit(X_train, Y_train)\n",
        "acc_train_random_forest = round(random_forest.score(X_train, Y_train) * 100, 2)\n",
        "acc_test_random_forest = round(random_forest.score(X_val, Y_val) * 100, 2)\n",
        "roc_test_random_forest = round(roc_auc_score(Y_val, clf_RF.predict_proba(X_val)[:, 1]),3)\n",
        "\n",
        "print('Random Forest train accurary: ',acc_train_random_forest)\n",
        "print('Random Forest test accurary: ',acc_test_random_forest)\n",
        "print('Random Forest test ROC: ',roc_test_random_forest)"
      ]
    },
    {
      "cell_type": "markdown",
      "metadata": {
        "id": "Ov_EbT3-f3tm"
      },
      "source": [
        "### Various Gradient Boosting Classifiers"
      ]
    },
    {
      "cell_type": "code",
      "execution_count": null,
      "metadata": {
        "colab": {
          "base_uri": "https://localhost:8080/"
        },
        "id": "WIT_d2gAcE3E",
        "outputId": "9b21446c-7441-4c32-da50-3972c4d5612c"
      },
      "outputs": [
        {
          "output_type": "stream",
          "name": "stdout",
          "text": [
            "GBDT train accurary:  81.34\n",
            "GBDT test accurary:  80.01\n",
            "GBDT test ROC:  0.74973\n"
          ]
        }
      ],
      "source": [
        "from sklearn.ensemble import GradientBoostingClassifier\n",
        "GBDT = GradientBoostingClassifier()\n",
        "clr = GBDT.fit(X_train, Y_train)\n",
        "acc_train_GBDT = round(GBDT.score(X_train, Y_train) * 100, 2)\n",
        "acc_test_GBDT = round(GBDT.score(X_val, Y_val) * 100, 2)\n",
        "roc_test_GBDT = round(roc_auc_score(Y_val, clr.predict_proba(X_val)[:,1]),5)\n",
        "print('GBDT train accurary: ',acc_train_GBDT)\n",
        "print('GBDT test accurary: ',acc_test_GBDT)\n",
        "print('GBDT test ROC: ',roc_test_GBDT)"
      ]
    },
    {
      "cell_type": "code",
      "execution_count": null,
      "metadata": {
        "colab": {
          "base_uri": "https://localhost:8080/"
        },
        "id": "a7wxckIkLgBz",
        "outputId": "34bc07e1-4787-4b01-9f6b-cab98c695130"
      },
      "outputs": [
        {
          "output_type": "stream",
          "name": "stdout",
          "text": [
            "xgb train accurary:  81.74\n",
            "xgb test accurary:  79.93\n",
            "xgb test ROC:  0.75108\n"
          ]
        }
      ],
      "source": [
        "from xgboost import XGBClassifier\n",
        "xgb = XGBClassifier(max_depth=4,n_estimators=125)\n",
        "clr = xgb.fit(X_train, Y_train)\n",
        "acc_train_xgb = round(xgb.score(X_train, Y_train) * 100, 2)\n",
        "acc_test_xgb = round(xgb.score(X_val, Y_val) * 100, 2)\n",
        "roc_test_xgb = round(roc_auc_score(Y_val, clr.predict_proba(X_val)[:,1]),5)\n",
        "print('xgb train accurary: ',acc_train_xgb)\n",
        "print('xgb test accurary: ',acc_test_xgb)\n",
        "print('xgb test ROC: ',roc_test_xgb)"
      ]
    },
    {
      "cell_type": "code",
      "execution_count": null,
      "metadata": {
        "colab": {
          "base_uri": "https://localhost:8080/"
        },
        "id": "iTU9bYq_eWMl",
        "outputId": "42b2a16b-4c9a-4f20-8709-d2a0dcd3de8f"
      },
      "outputs": [
        {
          "output_type": "stream",
          "name": "stdout",
          "text": [
            "lgbm train accurary:  81.32\n",
            "lgbm test accurary:  79.93\n",
            "lgbm test ROC:  0.753\n"
          ]
        }
      ],
      "source": [
        "from lightgbm import LGBMClassifier\n",
        "lgbm = LGBMClassifier(max_depth=3,n_estimators=171)\n",
        "clr_lgbm = lgbm.fit(X_train, Y_train)\n",
        "acc_train_lgbm = round(lgbm.score(X_train, Y_train) * 100, 2)\n",
        "acc_test_lgbm = round(lgbm.score(X_val, Y_val) * 100, 2)\n",
        "roc_test_lgbm = round(roc_auc_score(Y_val, clr_lgbm.predict_proba(X_val)[:,1]),5)\n",
        "print('lgbm train accurary: ',acc_train_lgbm)\n",
        "print('lgbm test accurary: ',acc_test_lgbm)\n",
        "print('lgbm test ROC: ',roc_test_lgbm)"
      ]
    },
    {
      "cell_type": "markdown",
      "metadata": {
        "id": "QctbHgHIfs3w"
      },
      "source": [
        "# Make ROC Curves to Visually Compare Models"
      ]
    },
    {
      "cell_type": "code",
      "execution_count": null,
      "metadata": {
        "colab": {
          "base_uri": "https://localhost:8080/",
          "height": 295
        },
        "id": "LaQGCOjvfpk7",
        "outputId": "fc81e80c-a718-4d17-d558-271e8071fa3f"
      },
      "outputs": [
        {
          "output_type": "display_data",
          "data": {
            "text/plain": [
              "<Figure size 432x288 with 1 Axes>"
            ],
            "image/png": "[encoded data removed]"
          },
          "metadata": {
            "needs_background": "light"
          }
        }
      ],
      "source": [
        "# Make ROC-AUC Curves\n",
        "probs_logreg = clf_logreg.predict_proba(X_val)\n",
        "preds_logreg = probs_logreg[:,1]\n",
        "fpr_logreg, tpr_logreg, threshold = roc_curve(Y_val, preds_logreg)\n",
        "roc_auc_logreg = auc(fpr_logreg, tpr_logreg)\n",
        "\n",
        "probs_RF = clf_RF.predict_proba(X_val)\n",
        "preds_RF = probs_RF[:,1]\n",
        "fpr_RF, tpr_RF, threshold = roc_curve(Y_val, preds_RF)\n",
        "roc_auc_RF = auc(fpr_RF, tpr_RF)\n",
        "\n",
        "probs_lgbm = clr_lgbm.predict_proba(X_val)\n",
        "preds_lgbm = probs_lgbm[:,1]\n",
        "fpr_lgbm, tpr_lgbm, threshold = roc_curve(Y_val, preds_lgbm)\n",
        "roc_auc_lgbm = auc(fpr_lgbm, tpr_lgbm)\n",
        "\n",
        "plt.title('ROC Curves')\n",
        "plt.plot(fpr_logreg, tpr_logreg, 'b', label = 'Reg Log Regression AUC = %0.2f' % roc_auc_logreg)\n",
        "plt.plot(fpr_RF, tpr_RF, 'g', linewidth = 1, label = 'Random Forest AUC = %0.2f' % roc_auc_RF)\n",
        "plt.plot(fpr_lgbm, tpr_lgbm, 'magenta', label = 'Light Gradient Boosting AUC = %0.2f' % roc_auc_lgbm)\n",
        "plt.legend(loc = 'lower right')\n",
        "plt.plot([0, 1], [0, 1],'r--')\n",
        "plt.xlim([0, 1])\n",
        "plt.ylim([0, 1])\n",
        "plt.ylabel('True Positive Rate')\n",
        "plt.xlabel('False Positive Rate')\n",
        "plt.show()"
      ]
    },
    {
      "cell_type": "markdown",
      "metadata": {
        "id": "31DzLndTfsID"
      },
      "source": [
        "# Create CSV for Submission"
      ]
    },
    {
      "cell_type": "code",
      "execution_count": null,
      "metadata": {
        "id": "HwXqXR4h70gj"
      },
      "outputs": [],
      "source": [
        "#oversampler=SMOTE(random_state=0)\n",
        "#X_train,y_train=oversampler.fit_resample(X_train,y_train)"
      ]
    },
    {
      "cell_type": "code",
      "execution_count": null,
      "metadata": {
        "id": "xXYX9TRZrx_D"
      },
      "outputs": [],
      "source": [
        "clr = lgbm.fit(X_train_all, y_train)"
      ]
    },
    {
      "cell_type": "code",
      "execution_count": null,
      "metadata": {
        "id": "wODmI8aYOFxJ"
      },
      "outputs": [],
      "source": [
        "target_test=clr.predict_proba(X_test)[:,1]"
      ]
    },
    {
      "cell_type": "code",
      "execution_count": null,
      "metadata": {
        "colab": {
          "base_uri": "https://localhost:8080/"
        },
        "id": "Wbo6DMzTtl7P",
        "outputId": "06dbe473-d58a-42bb-8385-2afb85a8a710"
      },
      "outputs": [
        {
          "output_type": "execute_result",
          "data": {
            "text/plain": [
              "2692.1008959672154"
            ]
          },
          "metadata": {},
          "execution_count": 119
        }
      ],
      "source": [
        "#According to the distribution of the train set, this sum should be around 2700\n",
        "np.sum(target_test)"
      ]
    },
    {
      "cell_type": "code",
      "execution_count": null,
      "metadata": {
        "id": "HAIYRS_p6FCk"
      },
      "outputs": [],
      "source": [
        "submission=pd.DataFrame(target_test.reshape(-1,1), index=x_test.index)"
      ]
    },
    {
      "cell_type": "code",
      "execution_count": null,
      "metadata": {
        "id": "U1V8iRw66dL5"
      },
      "outputs": [],
      "source": [
        "submission.to_csv('submission.csv', encoding='utf-8')"
      ]
    }
  ],
  "metadata": {
    "colab": {
      "collapsed_sections": [
        "ZgnnZicslfxk",
        "iN7HMVWogQJx",
        "V-yC8SSxuydW",
        "NC23JIna6PhU",
        "1Rpgw7dZ6ktX",
        "zBDCvSJVuKy4",
        "mVs0N666L9eH",
        "qL2LV916MBnA",
        "5bRKr6bYf29z",
        "KtC6OYxof3Z9"
      ],
      "provenance": []
    },
    "kernelspec": {
      "display_name": "Python 3",
      "name": "python3"
    },
    "language_info": {
      "name": "python"
    }
  },
  "nbformat": 4,
  "nbformat_minor": 0
}